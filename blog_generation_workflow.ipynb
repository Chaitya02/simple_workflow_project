{
 "cells": [
  {
   "cell_type": "markdown",
   "id": "f7669edd",
   "metadata": {},
   "source": [
    "### Imports"
   ]
  },
  {
   "cell_type": "code",
   "execution_count": 1,
   "id": "ee4a8f5b",
   "metadata": {},
   "outputs": [],
   "source": [
    "from langgraph.graph import StateGraph, START, END\n",
    "from langchain_google_genai import ChatGoogleGenerativeAI\n",
    "from typing import TypedDict\n",
    "from dotenv import load_dotenv"
   ]
  },
  {
   "cell_type": "code",
   "execution_count": 2,
   "id": "65fd182f",
   "metadata": {},
   "outputs": [
    {
     "data": {
      "text/plain": [
       "True"
      ]
     },
     "execution_count": 2,
     "metadata": {},
     "output_type": "execute_result"
    }
   ],
   "source": [
    "load_dotenv()"
   ]
  },
  {
   "cell_type": "markdown",
   "id": "425b1cbb",
   "metadata": {},
   "source": [
    "### State"
   ]
  },
  {
   "cell_type": "code",
   "execution_count": 3,
   "id": "9d795db5",
   "metadata": {},
   "outputs": [],
   "source": [
    "class LLMState(TypedDict):\n",
    "    topic: str\n",
    "    outline: str\n",
    "    blog: str\n",
    "    score: int"
   ]
  },
  {
   "cell_type": "markdown",
   "id": "aaef1f25",
   "metadata": {},
   "source": [
    "### Node Functions"
   ]
  },
  {
   "cell_type": "code",
   "execution_count": 4,
   "id": "3b3b1b49",
   "metadata": {},
   "outputs": [],
   "source": [
    "def OutlineWorkflow(state: LLMState) -> LLMState:\n",
    "    model = ChatGoogleGenerativeAI(\n",
    "        model=\"gemini-2.0-flash\",\n",
    "        temperature=0.5\n",
    "    )\n",
    "    prompt = f\"Write a detailed outline for the topic: {state['topic']}\"\n",
    "    outline = model.invoke(prompt)\n",
    "    state[\"outline\"] = outline.content\n",
    "    return state"
   ]
  },
  {
   "cell_type": "code",
   "execution_count": 5,
   "id": "0074066b",
   "metadata": {},
   "outputs": [],
   "source": [
    "def BlogWorkflow(state: LLMState) -> LLMState:\n",
    "    model = ChatGoogleGenerativeAI(\n",
    "        model=\"gemini-2.0-flash\",\n",
    "        temperature=0.5\n",
    "    )\n",
    "    prompt = f\"Write a blog for the topic: {state['topic']} \\n Outline:{state['outline']}\"\n",
    "    blog = model.invoke(prompt)\n",
    "    state[\"blog\"] = blog.content\n",
    "    return state"
   ]
  },
  {
   "cell_type": "code",
   "execution_count": 6,
   "id": "6f0b5edf",
   "metadata": {},
   "outputs": [],
   "source": [
    "def EvaluateWorkflow(state: LLMState) -> LLMState:\n",
    "    model = ChatGoogleGenerativeAI(\n",
    "        model=\"gemini-2.0-flash\",\n",
    "        temperature=0.5\n",
    "    )\n",
    "    prompt = f\"Evaluate the blog and give a score from 1-100 for the outline: {state['outline']} \\n Blog: {state['blog']} \\n Only provide the score as an integer.\"\n",
    "    score = model.invoke(prompt)\n",
    "    state[\"score\"] = int(score.content)\n",
    "    return state"
   ]
  },
  {
   "cell_type": "markdown",
   "id": "62691d75",
   "metadata": {},
   "source": [
    "### Define Graph"
   ]
  },
  {
   "cell_type": "code",
   "execution_count": 7,
   "id": "d470d6c4",
   "metadata": {},
   "outputs": [],
   "source": [
    "graph = StateGraph(LLMState)"
   ]
  },
  {
   "cell_type": "markdown",
   "id": "5043595c",
   "metadata": {},
   "source": [
    "### Add Nodes"
   ]
  },
  {
   "cell_type": "code",
   "execution_count": 8,
   "id": "a6edf0e8",
   "metadata": {},
   "outputs": [
    {
     "data": {
      "text/plain": [
       "<langgraph.graph.state.StateGraph at 0x126aed6a0>"
      ]
     },
     "execution_count": 8,
     "metadata": {},
     "output_type": "execute_result"
    }
   ],
   "source": [
    "graph.add_node(\"OutlineWorkflow\", OutlineWorkflow)\n",
    "graph.add_node(\"BlogWorkflow\", BlogWorkflow)\n",
    "graph.add_node(\"EvaluateWorkflow\", EvaluateWorkflow)"
   ]
  },
  {
   "cell_type": "markdown",
   "id": "2cc92c8f",
   "metadata": {},
   "source": [
    "### Add Edges"
   ]
  },
  {
   "cell_type": "code",
   "execution_count": 9,
   "id": "2fc2aca3",
   "metadata": {},
   "outputs": [
    {
     "data": {
      "text/plain": [
       "<langgraph.graph.state.StateGraph at 0x126aed6a0>"
      ]
     },
     "execution_count": 9,
     "metadata": {},
     "output_type": "execute_result"
    }
   ],
   "source": [
    "graph.add_edge(START, \"OutlineWorkflow\")\n",
    "graph.add_edge(\"OutlineWorkflow\", \"BlogWorkflow\")\n",
    "graph.add_edge(\"BlogWorkflow\", \"EvaluateWorkflow\")\n",
    "graph.add_edge(\"EvaluateWorkflow\", END)"
   ]
  },
  {
   "cell_type": "markdown",
   "id": "bb094d31",
   "metadata": {},
   "source": [
    "### Compile Graph"
   ]
  },
  {
   "cell_type": "code",
   "execution_count": 10,
   "id": "9c8e9e77",
   "metadata": {},
   "outputs": [],
   "source": [
    "workflow = graph.compile()"
   ]
  },
  {
   "cell_type": "markdown",
   "id": "15a159d1",
   "metadata": {},
   "source": [
    "### Run"
   ]
  },
  {
   "cell_type": "code",
   "execution_count": 11,
   "id": "f1e53b56",
   "metadata": {},
   "outputs": [],
   "source": [
    "output = workflow.invoke({\n",
    "    \"topic\": \"How to use LangGraph for prompt chaining\"\n",
    "})"
   ]
  },
  {
   "cell_type": "code",
   "execution_count": 12,
   "id": "04bc30f1",
   "metadata": {},
   "outputs": [
    {
     "data": {
      "image/png": "[encoded data removed]",
      "text/plain": [
       "<IPython.core.display.Image object>"
      ]
     },
     "execution_count": 12,
     "metadata": {},
     "output_type": "execute_result"
    }
   ],
   "source": [
    "from IPython.display import Image\n",
    "Image(workflow.get_graph().draw_mermaid_png())"
   ]
  },
  {
   "cell_type": "code",
   "execution_count": 13,
   "id": "4d170127",
   "metadata": {},
   "outputs": [
    {
     "name": "stdout",
     "output_type": "stream",
     "text": [
      "{'topic': 'How to use LangGraph for prompt chaining', 'outline': \"## Outline: How to Use LangGraph for Prompt Chaining\\n\\n**I. Introduction (5-10% of content)**\\n\\n   *   **A. What is Prompt Chaining?**\\n        *   1. Definition: Connecting multiple prompts and LLMs to achieve a complex task.\\n        *   2. Benefits:\\n            *   a. Improved accuracy and reliability.\\n            *   b. Ability to handle complex tasks beyond a single prompt.\\n            *   c. Increased modularity and reusability.\\n            *   d. Reduced hallucination.\\n        *   3. Examples of use cases:\\n            *   a. Question answering over large documents.\\n            *   b. Code generation with iterative refinement.\\n            *   c. Dialogue agents with memory and planning.\\n            *   d. Data analysis and report generation.\\n\\n   *   **B. Introduction to LangGraph**\\n        *   1. What is LangGraph?\\n            *   a. A Python library for building stateful, multi-actor applications using LLMs and other tools.\\n            *   b. Built on top of LangChain, providing a graph-based execution framework.\\n        *   2. Key Concepts:\\n            *   a. Nodes: Represent individual units of computation (e.g., LLM calls, tool use).\\n            *   b. Edges: Define the flow of data and control between nodes.\\n            *   c. State:  Maintains information across multiple steps in the graph.\\n            *   d. Graph: The overall structure connecting nodes and edges.\\n        *   3. Why use LangGraph for prompt chaining?\\n            *   a. Simplified workflow orchestration.\\n            *   b. Enhanced state management.\\n            *   c. Built-in support for loops and conditional branching.\\n            *   d. Improved observability and debugging.\\n\\n   *   **C. Overview of the Outline**\\n        *   1. Briefly describe the topics that will be covered in the outline.\\n        *   2. Emphasize the practical, hands-on approach.\\n\\n**II. Setting Up Your Environment (5-10% of content)**\\n\\n   *   **A. Prerequisites**\\n        *   1. Python installation (version requirement).\\n        *   2. Package manager (pip or conda).\\n        *   3. OpenAI API key (or access to other LLM providers).\\n\\n   *   **B. Installation**\\n        *   1. Installing LangChain: `pip install langchain`\\n        *   2. Installing LangGraph: `pip install langgraph`\\n        *   3. Installing necessary dependencies (e.g., `openai`, `tiktoken`).\\n\\n   *   **C. API Key Configuration**\\n        *   1. Setting environment variables for API keys (e.g., `OPENAI_API_KEY`).\\n        *   2. Alternative methods for API key management (e.g., `.env` files).\\n        *   3. Security considerations for API key storage.\\n\\n   *   **D. Verification**\\n        *   1. Simple code snippet to verify successful installation and API key configuration.\\n        *   2. Troubleshooting common installation issues.\\n\\n**III. Building a Simple Prompt Chain with LangGraph (20-25% of content)**\\n\\n   *   **A. Defining Nodes**\\n        *   1. Creating a basic LLM node:\\n            *   a. Using `ChatOpenAI` or other LLM classes from LangChain.\\n            *   b. Defining the prompt template using `PromptTemplate`.\\n            *   c. Passing input variables to the prompt.\\n        *   2. Creating a function node:\\n            *   a. Defining a Python function to process the output of a previous node.\\n            *   b. Integrating the function into the LangGraph.\\n            *   c. Examples: data cleaning, formatting, filtering.\\n\\n   *   **B. Defining Edges**\\n        *   1. Connecting nodes with `add_edge()`:\\n            *   a. Specifying the source and destination nodes.\\n            *   b. Understanding the data flow between nodes.\\n        *   2. Types of edges:\\n            *   a. Direct edges: Simple sequential flow.\\n            *   b. Conditional edges: Branching based on a condition.\\n            *   c. Loopback edges: Creating iterative processes.\\n\\n   *   **C. Defining State**\\n        *   1. Creating a state object:\\n            *   a. Defining the data structure to hold information across steps.\\n            *   b. Examples: conversation history, intermediate results, flags.\\n        *   2. Updating the state:\\n            *   a. Accessing and modifying the state within nodes.\\n            *   b. Using `StateGraph` to manage the state.\\n\\n   *   **D. Creating the Graph**\\n        *   1. Instantiating the `Graph` object.\\n        *   2. Adding nodes and edges to the graph.\\n        *   3. Setting the entry point of the graph.\\n\\n   *   **E. Running the Graph**\\n        *   1. Calling the `compile()` method to prepare the graph for execution.\\n        *   2. Calling the `stream()` or `invoke()` method to run the graph.\\n        *   3. Passing initial input to the graph.\\n        *   4. Retrieving the final output and state.\\n\\n   *   **F. Example: Sentiment Analysis and Response Generation**\\n        *   1. Node 1: Sentiment analysis of user input.\\n        *   2. Node 2: Generate a response based on the sentiment.\\n        *   3. State: Store the conversation history.\\n        *   4. Demonstrating the complete workflow.\\n\\n**IV. Advanced Prompt Chaining Techniques (20-25% of content)**\\n\\n   *   **A. Conditional Branching**\\n        *   1. Using conditional edges to control the flow based on specific conditions.\\n        *   2. Implementing decision-making logic within the graph.\\n        *   3. Example: Routing to different nodes based on user intent (e.g., question, request, complaint).\\n\\n   *   **B. Looping and Iteration**\\n        *   1. Creating loopback edges to repeat a process multiple times.\\n        *   2. Implementing iterative refinement techniques.\\n        *   3. Example: Summarizing a large document by iteratively summarizing smaller chunks.\\n\\n   *   **C. Using Tools**\\n        *   1. Integrating LangChain tools into the LangGraph.\\n        *   2. Enabling the LLM to interact with external resources (e.g., search engines, databases).\\n        *   3. Example: Answering questions using a search engine and a knowledge base.\\n\\n   *   **D. Memory Management**\\n        *   1. Implementing conversation history and context awareness.\\n        *   2. Using different memory types (e.g., buffer memory, summary memory).\\n        *   3. Example: Building a chatbot that remembers previous interactions.\\n\\n   *   **E. Parallel Execution (if supported)**\\n        *   1. Running multiple nodes concurrently to improve performance.\\n        *   2. Managing dependencies and data synchronization.\\n        *   3. Example: Performing multiple independent tasks in parallel.\\n\\n**V. Debugging and Observability (10-15% of content)**\\n\\n   *   **A. Logging and Monitoring**\\n        *   1. Implementing logging to track the execution of the graph.\\n        *   2. Monitoring the performance of individual nodes.\\n        *   3. Using LangChain callbacks for tracing.\\n\\n   *   **B. Error Handling**\\n        *   1. Implementing error handling mechanisms to gracefully handle exceptions.\\n        *   2. Retrying failed nodes.\\n        *   3. Providing informative error messages to the user.\\n\\n   *   **C. Visualizing the Graph**\\n        *   1. Using graph visualization tools to understand the structure and flow of the graph.\\n        *   2. Identifying potential bottlenecks and inefficiencies.\\n        *   3. LangChain's built-in visualization tools.\\n\\n   *   **D. Testing**\\n        *   1. Writing unit tests for individual nodes.\\n        *   2. Writing integration tests for the entire graph.\\n        *   3. Ensuring the graph behaves as expected under different conditions.\\n\\n**VI. Best Practices and Tips (5-10% of content)**\\n\\n   *   **A. Modularity and Reusability**\\n        *   1. Designing nodes and edges that can be easily reused in different graphs.\\n        *   2. Creating reusable components for common tasks.\\n\\n   *   **B. Prompt Engineering**\\n        *   1. Crafting effective prompts that elicit the desired behavior from the LLM.\\n        *   2. Experimenting with different prompt templates and strategies.\\n\\n   *   **C. Security Considerations**\\n        *   1. Protecting against prompt injection attacks.\\n        *   2. Sanitizing user input.\\n        *   3. Securely managing API keys and other sensitive information.\\n\\n   *   **D. Performance Optimization**\\n        *   1. Caching LLM responses to reduce API calls.\\n        *   2. Optimizing the graph structure for efficient execution.\\n        *   3. Using asynchronous operations.\\n\\n**VII. Conclusion (5-10% of content)**\\n\\n   *   **A. Summary of Key Concepts**\\n        *   1. Recap the benefits of using LangGraph for prompt chaining.\\n        *   2. Reiterate the key concepts: nodes, edges, state, graph.\\n\\n   *   **B. Future Directions**\\n        *   1. Briefly discuss potential future developments in LangGraph and prompt chaining.\\n        *   2. Mention advanced topics like multi-agent systems and complex workflow orchestration.\\n\\n   *   **C. Resources and Further Learning**\\n        *   1. Links to LangChain and LangGraph documentation.\\n        *   2. Links to relevant blog posts, tutorials, and examples.\\n        *   3. Pointers to the LangChain community and forums.\\n\\nThis detailed outline provides a comprehensive guide to using LangGraph for prompt chaining, covering everything from basic setup to advanced techniques and best practices.  It emphasizes practical examples and hands-on exercises to help readers quickly learn and apply these concepts.\", 'blog': '## Unleash the Power of Prompt Chaining with LangGraph: A Comprehensive Guide\\n\\nThe world of Large Language Models (LLMs) is constantly evolving, and as we push the boundaries of what these models can do, we often encounter tasks that are too complex for a single prompt. This is where **prompt chaining** comes in – the art of connecting multiple prompts and LLMs to achieve a complex goal. And to orchestrate these intricate workflows, **LangGraph** emerges as a powerful tool.\\n\\nThis blog post will guide you through the process of using LangGraph for prompt chaining, from setting up your environment to implementing advanced techniques. We\\'ll focus on practical examples and hands-on exercises to help you quickly learn and apply these concepts.\\n\\n**I. Introduction: Why Prompt Chaining and LangGraph?**\\n\\n**A. What is Prompt Chaining?**\\n\\nPrompt chaining is the technique of connecting multiple prompts and LLMs together to accomplish a more complex task than a single prompt could handle. Think of it as building a pipeline where the output of one prompt feeds into the input of another.\\n\\n**Benefits of Prompt Chaining:**\\n\\n*   **Improved Accuracy and Reliability:** Breaking down complex tasks into smaller, more manageable steps allows for better control and reduces the likelihood of errors.\\n*   **Ability to Handle Complex Tasks:** Tasks like document summarization, code generation with iterative refinement, and complex data analysis become achievable.\\n*   **Increased Modularity and Reusability:** Individual prompts can be designed as modular components that can be reused in different chains.\\n*   **Reduced Hallucination:** By guiding the LLM through a structured process, we can minimize the risk of generating inaccurate or fabricated information.\\n\\n**Examples of Use Cases:**\\n\\n*   **Question Answering over Large Documents:** Break down a large document into smaller chunks, summarize each chunk, and then answer questions based on the summaries.\\n*   **Code Generation with Iterative Refinement:** Generate initial code, then use feedback prompts to refine and improve the code.\\n*   **Dialogue Agents with Memory and Planning:** Build chatbots that remember previous interactions and plan their responses based on the conversation history.\\n*   **Data Analysis and Report Generation:** Extract data from various sources, analyze it, and generate a comprehensive report.\\n\\n**B. Introduction to LangGraph**\\n\\nLangGraph is a Python library built on top of LangChain that provides a graph-based execution framework for building stateful, multi-actor applications using LLMs and other tools.\\n\\n**Key Concepts:**\\n\\n*   **Nodes:** Represent individual units of computation. These can be LLM calls, tool use, or any other Python function.\\n*   **Edges:** Define the flow of data and control between nodes. They determine the order in which nodes are executed.\\n*   **State:** Maintains information across multiple steps in the graph. This allows you to track conversation history, intermediate results, and other relevant data.\\n*   **Graph:** The overall structure connecting nodes and edges, defining the entire workflow.\\n\\n**Why use LangGraph for prompt chaining?**\\n\\n*   **Simplified Workflow Orchestration:** LangGraph provides a clean and intuitive way to define complex workflows.\\n*   **Enhanced State Management:** Easily manage and update state across multiple steps in the chain.\\n*   **Built-in Support for Loops and Conditional Branching:** Implement complex logic with ease.\\n*   **Improved Observability and Debugging:** Track the execution of your graph and identify potential issues.\\n\\n**C. Overview of the Outline**\\n\\nIn this blog post, we\\'ll cover the following topics:\\n\\n*   Setting up your environment for LangGraph development.\\n*   Building a simple prompt chain with LangGraph.\\n*   Exploring advanced prompt chaining techniques like conditional branching, looping, and tool integration.\\n*   Debugging and observability techniques for LangGraph applications.\\n*   Best practices and tips for building robust and efficient prompt chains.\\n\\nLet\\'s dive in!\\n\\n**II. Setting Up Your Environment**\\n\\n**A. Prerequisites**\\n\\n*   **Python:** Make sure you have Python 3.8 or higher installed.\\n*   **Package Manager:** You\\'ll need either `pip` or `conda` to install the necessary packages.\\n*   **OpenAI API Key:** You\\'ll need an OpenAI API key to use the OpenAI models.  You can obtain one from [OpenAI\\'s website](https://platform.openai.com/).\\n\\n**B. Installation**\\n\\nOpen your terminal and run the following commands to install LangChain, LangGraph, and other necessary dependencies:\\n\\n```bash\\npip install langchain\\npip install langgraph\\npip install openai tiktoken\\n```\\n\\n**C. API Key Configuration**\\n\\nThe easiest way to configure your OpenAI API key is to set it as an environment variable:\\n\\n```bash\\nexport OPENAI_API_KEY=\"YOUR_OPENAI_API_KEY\"\\n```\\n\\nReplace `\"YOUR_OPENAI_API_KEY\"` with your actual API key.\\n\\nAlternatively, you can use a `.env` file to manage your API keys. Create a file named `.env` in your project directory and add the following line:\\n\\n```\\nOPENAI_API_KEY=\"YOUR_OPENAI_API_KEY\"\\n```\\n\\nThen, install the `python-dotenv` package:\\n\\n```bash\\npip install python-dotenv\\n```\\n\\nAnd load the environment variables in your Python code:\\n\\n```python\\nfrom dotenv import load_dotenv\\nimport os\\n\\nload_dotenv()\\nopenai_api_key = os.getenv(\"OPENAI_API_KEY\")\\n```\\n\\n**Security Considerations:** Never commit your API keys directly to your code repository. Use environment variables or a secure secrets management system instead.\\n\\n**D. Verification**\\n\\nTo verify that everything is set up correctly, run the following code snippet:\\n\\n```python\\nimport os\\nfrom langchain_openai import ChatOpenAI\\n\\nopenai_api_key = os.getenv(\"OPENAI_API_KEY\")\\n\\nif not openai_api_key:\\n    print(\"Error: OpenAI API key not found. Please set the OPENAI_API_KEY environment variable.\")\\nelse:\\n    llm = ChatOpenAI(openai_api_key=openai_api_key, model_name=\"gpt-3.5-turbo\")\\n    try:\\n        response = llm.invoke(\"Hello, LangGraph!\")\\n        print(f\"Successfully connected to OpenAI! Response: {response.content}\")\\n    except Exception as e:\\n        print(f\"Error connecting to OpenAI: {e}\")\\n```\\n\\nIf you see a response from OpenAI, you\\'re all set! If you encounter any errors, double-check your API key and installation steps.\\n\\n**III. Building a Simple Prompt Chain with LangGraph**\\n\\nNow that we have our environment set up, let\\'s build a simple prompt chain using LangGraph.  We\\'ll create a chain that analyzes the sentiment of a user\\'s input and then generates a response based on that sentiment.\\n\\n**A. Defining Nodes**\\n\\nFirst, we need to define the nodes in our graph. We\\'ll create two nodes:\\n\\n*   **Sentiment Analysis Node:** This node will analyze the sentiment of the user\\'s input using an LLM.\\n*   **Response Generation Node:** This node will generate a response based on the sentiment analysis.\\n\\n```python\\nfrom langchain_core.prompts import ChatPromptTemplate\\nfrom langchain_openai import ChatOpenAI\\nfrom typing import TypedDict, Dict\\n\\n# Define the state of the graph\\nclass GraphState(TypedDict):\\n    user_input: str\\n    sentiment: str\\n    response: str\\n\\n# Sentiment Analysis Node\\ndef analyze_sentiment(state: GraphState) -> Dict[str, str]:\\n    prompt_template = ChatPromptTemplate.from_template(\\n        \"Analyze the sentiment of the following text: {text}.  Respond with only \\'positive\\', \\'negative\\', or \\'neutral\\'.\"\\n    )\\n    llm = ChatOpenAI(model_name=\"gpt-3.5-turbo\")\\n    chain = prompt_template | llm\\n    sentiment = chain.invoke({\"text\": state[\\'user_input\\']}).content\\n    print(f\"Sentiment: {sentiment}\")\\n    return {\"sentiment\": sentiment}\\n\\n# Response Generation Node\\ndef generate_response(state: GraphState) -> Dict[str, str]:\\n    prompt_template = ChatPromptTemplate.from_template(\\n        \"\"\"You are a helpful assistant.  The user\\'s sentiment is {sentiment}.\\n        Respond to the user\\'s input: {user_input} in a way that is appropriate for the sentiment.\"\"\"\\n    )\\n    llm = ChatOpenAI(model_name=\"gpt-3.5-turbo\")\\n    chain = prompt_template | llm\\n    response = chain.invoke({\"sentiment\": state[\\'sentiment\\'], \"user_input\": state[\\'user_input\\']}).content\\n    print(f\"Response: {response}\")\\n    return {\"response\": response}\\n```\\n\\nIn this code:\\n\\n*   We define a `GraphState` TypedDict to hold the state of our graph. This includes the user input, the sentiment analysis, and the generated response.\\n*   We use `ChatPromptTemplate` to define the prompts for each node.\\n*   We use `ChatOpenAI` to create an LLM instance.\\n*   Each node function takes the current `state` as input and returns a dictionary containing the updated values for the state.\\n\\n**B. Defining Edges**\\n\\nNext, we need to define the edges that connect the nodes. In this simple example, we\\'ll create a direct edge from the sentiment analysis node to the response generation node.\\n\\n```python\\nfrom langgraph.graph import StateGraph, END\\n\\n# Create a new graph\\nworkflow = StateGraph(GraphState)\\n\\n# Add the nodes\\nworkflow.add_node(\"analyze_sentiment\", analyze_sentiment)\\nworkflow.add_node(\"generate_response\", generate_response)\\n\\n# Add the edges\\nworkflow.add_edge(\"analyze_sentiment\", \"generate_response\")\\nworkflow.set_entry_point(\"analyze_sentiment\")\\nworkflow.add_edge(\"generate_response\", END)\\n```\\n\\nHere, we use the `StateGraph` class to create our graph. We add the nodes using `add_node()` and the edges using `add_edge()`. We also set the entry point of the graph to the sentiment analysis node using `set_entry_point()`.  `END` signifies the end of the graph execution.\\n\\n**C. Defining State**\\n\\nWe already defined the `GraphState` TypedDict in the previous step. This defines the structure of the state that will be passed between nodes.\\n\\n**D. Creating the Graph**\\n\\nWe already created the graph in the previous step using `workflow = StateGraph(GraphState)`.\\n\\n**E. Running the Graph**\\n\\nNow, let\\'s run the graph with some user input:\\n\\n```python\\nfrom langchain_core.utils.function_utils import is_async_callable\\n# Compile the graph\\nchain = workflow.compile()\\n\\n# Run the graph\\ninputs = {\"user_input\": \"I\\'m feeling really happy today!\"}\\nresult = chain.invoke(inputs)\\n\\n# Print the final result\\nprint(f\"Final Response: {result[\\'response\\']}\")\\n```\\n\\nThis code compiles the graph using `compile()` and then runs it with the input \"I\\'m feeling really happy today!\". The final response from the graph will be printed to the console.\\n\\n**F. Example: Sentiment Analysis and Response Generation (Complete Code)**\\n\\nHere\\'s the complete code for this example:\\n\\n```python\\nimport os\\nfrom dotenv import load_dotenv\\nfrom typing import TypedDict, Dict\\nfrom langchain_core.prompts import ChatPromptTemplate\\nfrom langchain_openai import ChatOpenAI\\nfrom langgraph.graph import StateGraph, END\\n\\nload_dotenv()\\nopenai_api_key = os.getenv(\"OPENAI_API_KEY\")\\n\\n# Define the state of the graph\\nclass GraphState(TypedDict):\\n    user_input: str\\n    sentiment: str\\n    response: str\\n\\n# Sentiment Analysis Node\\ndef analyze_sentiment(state: GraphState) -> Dict[str, str]:\\n    prompt_template = ChatPromptTemplate.from_template(\\n        \"Analyze the sentiment of the following text: {text}.  Respond with only \\'positive\\', \\'negative\\', or \\'neutral\\'.\"\\n    )\\n    llm = ChatOpenAI(openai_api_key=openai_api_key, model_name=\"gpt-3.5-turbo\")\\n    chain = prompt_template | llm\\n    sentiment = chain.invoke({\"text\": state[\\'user_input\\']}).content\\n    print(f\"Sentiment: {sentiment}\")\\n    return {\"sentiment\": sentiment}\\n\\n# Response Generation Node\\ndef generate_response(state: GraphState) -> Dict[str, str]:\\n    prompt_template = ChatPromptTemplate.from_template(\\n        \"\"\"You are a helpful assistant.  The user\\'s sentiment is {sentiment}.\\n        Respond to the user\\'s input: {user_input} in a way that is appropriate for the sentiment.\"\"\"\\n    )\\n    llm = ChatOpenAI(openai_api_key=openai_api_key, model_name=\"gpt-3.5-turbo\")\\n    chain = prompt_template | llm\\n    response = chain.invoke({\"sentiment\": state[\\'sentiment\\'], \"user_input\": state[\\'user_input\\']}).content\\n    print(f\"Response: {response}\")\\n    return {\"response\": response}\\n\\n# Create a new graph\\nworkflow = StateGraph(GraphState)\\n\\n# Add the nodes\\nworkflow.add_node(\"analyze_sentiment\", analyze_sentiment)\\nworkflow.add_node(\"generate_response\", generate_response)\\n\\n# Add the edges\\nworkflow.add_edge(\"analyze_sentiment\", \"generate_response\")\\nworkflow.set_entry_point(\"analyze_sentiment\")\\nworkflow.add_edge(\"generate_response\", END)\\n\\n# Compile the graph\\nchain = workflow.compile()\\n\\n# Run the graph\\ninputs = {\"user_input\": \"I\\'m feeling really happy today!\"}\\nresult = chain.invoke(inputs)\\n\\n# Print the final result\\nprint(f\"Final Response: {result[\\'response\\']}\")\\n```\\n\\n**IV. Advanced Prompt Chaining Techniques**\\n\\nNow that we\\'ve built a simple prompt chain, let\\'s explore some advanced techniques that can make your LangGraph applications even more powerful.\\n\\n**A. Conditional Branching**\\n\\nConditional branching allows you to control the flow of the graph based on specific conditions. For example, you might want to route the user to different nodes based on their intent.\\n\\n```python\\nfrom langgraph.graph import StateGraph, END\\nfrom typing import TypedDict, Dict\\nfrom langchain_core.prompts import ChatPromptTemplate\\nfrom langchain_openai import ChatOpenAI\\nimport os\\nfrom dotenv import load_dotenv\\n\\nload_dotenv()\\nopenai_api_key = os.getenv(\"OPENAI_API_KEY\")\\n\\n# Define the state of the graph\\nclass GraphState(TypedDict):\\n    user_input: str\\n    intent: str\\n    response: str\\n\\n# Intent Recognition Node\\ndef recognize_intent(state: GraphState) -> Dict[str, str]:\\n    prompt_template = ChatPromptTemplate.from_template(\\n        \"What is the user\\'s intent?  Respond with only \\'question\\', \\'request\\', or \\'complaint\\'. User input: {text}\"\\n    )\\n    llm = ChatOpenAI(openai_api_key=openai_api_key, model_name=\"gpt-3.5-turbo\")\\n    chain = prompt_template | llm\\n    intent = chain.invoke({\"text\": state[\\'user_input\\']}).content\\n    print(f\"Intent: {intent}\")\\n    return {\"intent\": intent}\\n\\n# Question Answering Node\\ndef answer_question(state: GraphState) -> Dict[str, str]:\\n    prompt_template = ChatPromptTemplate.from_template(\\n        \"Answer the user\\'s question: {user_input}\"\\n    )\\n    llm = ChatOpenAI(openai_api_key=openai_api_key, model_name=\"gpt-3.5-turbo\")\\n    chain = prompt_template | llm\\n    response = chain.invoke({\"user_input\": state[\\'user_input\\']}).content\\n    print(f\"Answer: {response}\")\\n    return {\"response\": response}\\n\\n# Handle Request Node\\ndef handle_request(state: GraphState) -> Dict[str, str]:\\n    prompt_template = ChatPromptTemplate.from_template(\\n        \"Fulfill the user\\'s request: {user_input}\"\\n    )\\n    llm = ChatOpenAI(openai_api_key=openai_api_key, model_name=\"gpt-3.5-turbo\")\\n    chain = prompt_template | llm\\n    response = chain.invoke({\"user_input\": state[\\'user_input\\']}).content\\n    print(f\"Request Response: {response}\")\\n    return {\"response\": response}\\n\\n# Handle Complaint Node\\ndef handle_complaint(state: GraphState) -> Dict[str, str]:\\n    prompt_template = ChatPromptTemplate.from_template(\\n        \"Acknowledge and address the user\\'s complaint: {user_input}\"\\n    )\\n    llm = ChatOpenAI(openai_api_key=openai_api_key, model_name=\"gpt-3.5-turbo\")\\n    chain = prompt_template | llm\\n    response = chain.invoke({\"user_input\": state[\\'user_input\\']}).content\\n    print(f\"Complaint Response: {response}\")\\n    return {\"response\": response}\\n\\n# Define a function to determine the next node based on the intent\\ndef route(state: GraphState):\\n    if state[\\'intent\\'] == \"question\":\\n        return \"answer_question\"\\n    elif state[\\'intent\\'] == \"request\":\\n        return \"handle_request\"\\n    elif state[\\'intent\\'] == \"complaint\":\\n        return \"handle_complaint\"\\n    else:\\n        return END\\n\\n# Create a new graph\\nworkflow = StateGraph(GraphState)\\n\\n# Add the nodes\\nworkflow.add_node(\"recognize_intent\", recognize_intent)\\nworkflow.add_node(\"answer_question\", answer_question)\\nworkflow.add_node(\"handle_request\", handle_request)\\nworkflow.add_node(\"handle_complaint\", handle_complaint)\\n\\n# Add the edges\\nworkflow.add_edge(\"recognize_intent\", route)\\nworkflow.add_conditional_edges(\\n    \"recognize_intent\",\\n    route,\\n    {\\n        \"question\": \"answer_question\",\\n        \"request\": \"handle_request\",\\n        \"complaint\": \"handle_complaint\",\\n    }\\n)\\nworkflow.add_edge(\"answer_question\", END)\\nworkflow.add_edge(\"handle_request\", END)\\nworkflow.add_edge(\"handle_complaint\", END)\\n\\nworkflow.set_entry_point(\"recognize_intent\")\\n\\n# Compile the graph\\nchain = workflow.compile()\\n\\n# Run the graph\\ninputs = {\"user_input\": \"I need help resetting my password.\"}\\nresult = chain.invoke(inputs)\\n\\n# Print the final result\\nprint(f\"Final Response: {result[\\'response\\']}\")\\n```\\n\\nIn this example:\\n\\n*   We added an `intent` field to the `GraphState` to store the user\\'s intent.\\n*   We created an `recognize_intent` node to determine the user\\'s intent.\\n*   We created three separate nodes to handle questions, requests, and complaints.\\n*   We used `workflow.add_conditional_edges` to route the user to the appropriate node based on their intent.\\n\\n**B. Looping and Iteration**\\n\\nLooping and iteration allow you to repeat a process multiple times. This is useful for tasks like summarizing large documents or iteratively refining code.\\n\\n```python\\nfrom langgraph.graph import StateGraph, END\\nfrom typing import TypedDict, Dict\\nfrom langchain_core.prompts import ChatPromptTemplate\\nfrom langchain_openai import ChatOpenAI\\nimport os\\nfrom dotenv import load_dotenv\\n\\nload_dotenv()\\nopenai_api_key = os.getenv(\"OPENAI_API_KEY\")\\n\\n# Define the state of the graph\\nclass GraphState(TypedDict):\\n    text: str\\n    summary: str\\n    iteration: int\\n\\n# Summarization Node\\ndef summarize_text(state: GraphState) -> Dict[str, str]:\\n    prompt_template = ChatPromptTemplate.from_template(\\n        \"Summarize the following text: {text}.  The current summary is: {summary}\"\\n    )\\n    llm = ChatOpenAI(openai_api_key=openai_api_key, model_name=\"gpt-3.5-turbo\")\\n    chain = prompt_template | llm\\n    summary = chain.invoke({\"text\": state[\\'text\\'], \"summary\": state[\\'summary\\']}).content\\n    print(f\"Summary: {summary}\")\\n    return {\"summary\": summary}\\n\\n# Check Completion Node\\ndef check_completion(state: GraphState) -> Dict[str, str]:\\n    if state[\\'iteration\\'] >= 3:\\n        return END\\n    else:\\n        return \"summarize_text\"\\n\\n# Increment Iteration Node\\ndef increment_iteration(state: GraphState) -> Dict[str, int]:\\n    iteration = state[\\'iteration\\'] + 1\\n    print(f\"Iteration: {iteration}\")\\n    return {\"iteration\": iteration}\\n\\n# Create a new graph\\nworkflow = StateGraph(GraphState)\\n\\n# Add the nodes\\nworkflow.add_node(\"summarize_text\", summarize_text)\\nworkflow.add_node(\"check_completion\", check_completion)\\nworkflow.add_node(\"increment_iteration\", increment_iteration)\\n\\n# Add the edges\\nworkflow.add_edge(\"summarize_text\", \"increment_iteration\")\\nworkflow.add_edge(\"increment_iteration\", \"check_completion\")\\nworkflow.add_conditional_edges(\\n    \"check_completion\",\\n    check_completion,\\n    {\\n        END: END,\\n        \"summarize_text\": \"summarize_text\",\\n    }\\n)\\nworkflow.set_entry_point(\"summarize_text\")\\n\\n# Compile the graph\\nchain = workflow.compile()\\n\\n# Run the graph\\ninputs = {\"text\": \"This is a long document that needs to be summarized.  It contains a lot of information that is important to understand. The main topic is LangGraph and how to use it for prompt chaining.  It\\'s a powerful tool for building complex applications with LLMs.\", \"summary\": \"\", \"iteration\": 0}\\nresult = chain.invoke(inputs)\\n\\n# Print the final result\\nprint(f\"Final Summary: {result[\\'summary\\']}\")\\n```\\n\\nIn this example:\\n\\n*   We added a `summary` and `iteration` field to the `GraphState`.\\n*   We created a `summarize_text` node to summarize the text.\\n*   We created a `check_completion` node to determine if the summarization is complete.\\n*   We used a loopback edge to repeat the summarization process multiple times.\\n\\n**C. Using Tools**\\n\\nLangGraph can be integrated with LangChain tools to enable the LLM to interact with external resources like search engines and databases.\\n\\n```python\\nfrom langgraph.graph import StateGraph, END\\nfrom typing import TypedDict, Dict\\nfrom langchain_core.prompts import ChatPromptTemplate\\nfrom langchain_openai import ChatOpenAI\\nfrom langchain.tools import DuckDuckGoSearchRun\\nimport os\\nfrom dotenv import load_dotenv\\n\\nload_dotenv()\\nopenai_api_key = os.getenv(\"OPENAI_API_KEY\")\\n\\n# Define the state of the graph\\nclass GraphState(TypedDict):\\n    user_input: str\\n    search_results: str\\n    response: str\\n\\n# Search Node\\ndef search_internet(state: GraphState) -> Dict[str, str]:\\n    search = DuckDuckGoSearchRun()\\n    search_results = search.run(state[\\'user_input\\'])\\n    print(f\"Search Results: {search_results}\")\\n    return {\"search_results\": search_results}\\n\\n# Response Generation Node\\ndef generate_response(state: GraphState) -> Dict[str, str]:\\n    prompt_template = ChatPromptTemplate.from_template(\\n        \"Answer the user\\'s question using the following search results: {search_results}. User question: {user_input}\"\\n    )\\n    llm = ChatOpenAI(openai_api_key=openai_api_key, model_name=\"gpt-3.5-turbo\")\\n    chain = prompt_template | llm\\n    response = chain.invoke({\"search_results\": state[\\'search_results\\'], \"user_input\": state[\\'user_input\\']}).content\\n    print(f\"Response: {response}\")\\n    return {\"response\": response}\\n\\n# Create a new graph\\nworkflow = StateGraph(GraphState)\\n\\n# Add the nodes\\nworkflow.add_node(\"search_internet\", search_internet)\\nworkflow.add_node(\"generate_response\", generate_response)\\n\\n# Add the edges\\nworkflow.add_edge(\"search_internet\", \"generate_response\")\\nworkflow.set_entry_point(\"search_internet\")\\nworkflow.add_edge(\"generate_response\", END)\\n\\n# Compile the graph\\nchain = workflow.compile()\\n\\n# Run the graph\\ninputs = {\"user_input\": \"What is the capital of France?\"}\\nresult = chain.invoke(inputs)\\n\\n# Print the final result\\nprint(f\"Final Response: {result[\\'response\\']}\")\\n```\\n\\nIn this example:\\n\\n*   We added a `search_results` field to the `GraphState`.\\n*   We created a `search_internet` node to search the internet using the DuckDuckGo search tool.\\n*   We used the search results to generate a response to the user\\'s question.\\n\\n**D. Memory Management**\\n\\nMemory management allows you to maintain conversation history and context awareness in your LangGraph applications. You can use different memory types like buffer memory and summary memory to store and retrieve information from previous interactions. LangChain provides various memory implementations that can be integrated into LangGraph nodes.\\n\\n**E. Parallel Execution**\\n\\nWhile not directly supported in all LangGraph versions, the underlying LangChain framework often allows for asynchronous operations, which can be leveraged to run multiple nodes concurrently, improving performance. This typically involves using `async` and `await` keywords in your node functions and ensuring your LLM provider supports asynchronous requests.  Always check the LangGraph documentation for the most up-to-date information on parallel execution capabilities.\\n\\n**V. Debugging and Observability**\\n\\nDebugging and observability are crucial for building robust and reliable LangGraph applications.\\n\\n**A. Logging and Monitoring**\\n\\nImplement logging to track the execution of the graph and monitor the performance of individual nodes. You can use Python\\'s built-in `logging` module or a more advanced logging framework like `structlog`. LangChain callbacks can also be used for tracing the execution of the graph.\\n\\n**B. Error Handling**\\n\\nImplement error handling mechanisms to gracefully handle exceptions. You can use `try-except` blocks to catch errors and retry failed nodes. Provide informative error messages to the user to help them understand what went wrong.\\n\\n**C. Visualizing the Graph**\\n\\nLangChain provides built-in visualization tools that can help you understand the structure and flow of the graph. You can use these tools to identify potential bottlenecks and inefficiencies.\\n\\n**D. Testing**\\n\\nWrite unit tests for individual nodes and integration tests for the entire graph. Ensure that the graph behaves as expected under different conditions.\\n\\n**VI. Best Practices and Tips**\\n\\nHere are some best practices and tips for building robust and efficient prompt chains with LangGraph:\\n\\n*   **Modularity and Reusability:** Design nodes and edges that can be easily reused in different graphs. Create reusable components for common tasks.\\n*   **Prompt Engineering:** Craft effective prompts that elicit the desired behavior from the LLM. Experiment with different prompt templates and strategies.\\n*   **Security Considerations:** Protect against prompt injection attacks. Sanitize user input. Securely manage API keys and other sensitive information.\\n*   **Performance Optimization:** Cache LLM responses to reduce API calls. Optimize the graph structure for efficient execution. Use asynchronous operations where possible.\\n\\n**VII. Conclusion**\\n\\n**A. Summary of Key Concepts**\\n\\nLangGraph is a powerful tool for building stateful, multi-actor applications using LLMs and other tools. It simplifies workflow orchestration, enhances state management, and provides built-in support for loops and conditional branching. By mastering the key concepts of nodes, edges, state, and graph, you can unlock the full potential of LangGraph for prompt chaining.\\n\\n**B. Future Directions**\\n\\nThe field of prompt chaining is constantly evolving. Future developments in LangGraph and related technologies will likely focus on advanced topics like multi-agent systems, complex workflow orchestration, and improved integration with other tools and services.\\n\\n**C. Resources and Further Learning**\\n\\n*   **LangChain Documentation:** [https://python.langchain.com/](https://python.langchain.com/)\\n*   **LangGraph Documentation:** (Refer to LangChain documentation as LangGraph is integrated within LangChain)\\n*   **LangChain Community:** [https://discord.gg/6adAnGJdrQ](https://discord.gg/6adAnGJdrQ)\\n\\nBy following the guidelines and examples in this blog post, you can start building your own powerful prompt chains with LangGraph and unlock the full potential of LLMs. Happy coding!', 'score': 92}\n"
     ]
    }
   ],
   "source": [
    "print(output)"
   ]
  },
  {
   "cell_type": "code",
   "execution_count": null,
   "id": "0ceb05d3",
   "metadata": {},
   "outputs": [],
   "source": []
  }
 ],
 "metadata": {
  "kernelspec": {
   "display_name": ".venv",
   "language": "python",
   "name": "python3"
  },
  "language_info": {
   "codemirror_mode": {
    "name": "ipython",
    "version": 3
   },
   "file_extension": ".py",
   "mimetype": "text/x-python",
   "name": "python",
   "nbconvert_exporter": "python",
   "pygments_lexer": "ipython3",
   "version": "3.13.5"
  }
 },
 "nbformat": 4,
 "nbformat_minor": 5
}
